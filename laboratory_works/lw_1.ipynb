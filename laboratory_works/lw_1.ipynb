{
 "cells": [
  {
   "metadata": {},
   "cell_type": "markdown",
   "source": [
    "# Лабораторная №1"
   ],
   "id": "9a81179d10da8330"
  },
  {
   "metadata": {},
   "cell_type": "markdown",
   "source": [
    "## Типы данных"
   ],
   "id": "13feb24fde5be69a"
  },
  {
   "metadata": {},
   "cell_type": "markdown",
   "source": [
    "Создайте программу, которая будет приветствовать пользователя:\n",
    "Сначала попросите пользователя ввести свое имя.\n",
    "Затем выведите приветственное сообщение, используя введенное имя."
   ],
   "id": "535f9e86de783809"
  },
  {
   "metadata": {},
   "cell_type": "markdown",
   "source": [
    "#### Пример:\n",
    "Enter your name: Olya\\\n",
    "Hi, Olya! Welcome!\n"
   ],
   "id": "6023d4389ce6cd8"
  },
  {
   "cell_type": "code",
   "id": "initial_id",
   "metadata": {
    "collapsed": true,
    "ExecuteTime": {
     "end_time": "2024-12-09T11:54:52.877187Z",
     "start_time": "2024-12-09T11:54:52.874622Z"
    }
   },
   "source": [
    "# Напиши решение тут\n"
   ],
   "outputs": [],
   "execution_count": 5
  },
  {
   "metadata": {},
   "cell_type": "markdown",
   "source": [
    "\n",
    "1. Создайте переменную `user_name` и сохраните в нее имя пользователя (строка, минимум из двух символов).\n",
    "2. Создайте переменную `device_name` и сохраните в нее название устройства (строка, минимум из двух символов).\n",
    "3. Создайте переменную `device_age`, в которой будет храниться возраст устройства (неотрицательное число).\n",
    "4. Создайте переменную `is_under_warranty`, которая будет содержать значение `True`, если устройство на гарантии, или `False`, если нет."
   ],
   "id": "c974779de734f3f5"
  },
  {
   "metadata": {
    "ExecuteTime": {
     "end_time": "2024-12-08T09:01:43.897304Z",
     "start_time": "2024-12-08T09:01:43.893859Z"
    }
   },
   "cell_type": "code",
   "source": [
    "# Напиши решение тут\n"
   ],
   "id": "1706cc04f917c519",
   "outputs": [],
   "execution_count": 1
  },
  {
   "metadata": {},
   "cell_type": "markdown",
   "source": [
    "Выведите на экран тип данных для определенных ранее переменных."
   ],
   "id": "9167b3f37213d5a8"
  },
  {
   "metadata": {
    "ExecuteTime": {
     "end_time": "2024-12-08T09:01:50.986354Z",
     "start_time": "2024-12-08T09:01:50.983207Z"
    }
   },
   "cell_type": "code",
   "source": [
    "# Напиши решение тут"
   ],
   "id": "a5fde07e6e8977cb",
   "outputs": [],
   "execution_count": 2
  },
  {
   "metadata": {},
   "cell_type": "markdown",
   "source": [
    "1. Преобразуйте строку имени в нижний регистр и сохраните результат в новой переменной.\n",
    "2. Создайте строку по шаблону `\"user_name__object_name\"`.\n",
    "3. Выведите длину получившейся строки."
   ],
   "id": "4beb2fbddf03bbda"
  },
  {
   "metadata": {
    "ExecuteTime": {
     "end_time": "2024-12-08T09:05:20.954730Z",
     "start_time": "2024-12-08T09:05:20.951642Z"
    }
   },
   "cell_type": "code",
   "source": [
    "# Напиши решение тут\n"
   ],
   "id": "573c572586967639",
   "outputs": [],
   "execution_count": 3
  },
  {
   "metadata": {},
   "cell_type": "markdown",
   "source": [
    "Используя навыки форматирования строк в Python, выведите на экран следующую фразу, подставив значения переменных:\n",
    "\"{user_name} недавно приобрел {object_name}, которому всего {object_age} лет.\""
   ],
   "id": "5d547bfdd571f872"
  },
  {
   "metadata": {
    "ExecuteTime": {
     "end_time": "2024-12-08T09:36:31.294315Z",
     "start_time": "2024-12-08T09:36:31.291576Z"
    }
   },
   "cell_type": "code",
   "source": [
    "# Напиши решение тут"
   ],
   "id": "93d009ebee158763",
   "outputs": [],
   "execution_count": 5
  },
  {
   "metadata": {},
   "cell_type": "markdown",
   "source": [
    "Нам интересно узнать, является ли имя объекта палиндромом. Проверьте это, используя срезы."
   ],
   "id": "b182d7062fd2ec90"
  },
  {
   "metadata": {
    "ExecuteTime": {
     "end_time": "2024-12-08T22:18:14.739713Z",
     "start_time": "2024-12-08T22:18:14.735804Z"
    }
   },
   "cell_type": "code",
   "source": [
    "# Напиши решение тут\n"
   ],
   "id": "8de8e4c76fac1e71",
   "outputs": [],
   "execution_count": 14
  },
  {
   "metadata": {},
   "cell_type": "markdown",
   "source": [
    "В переменной `our_text` сохранено некоторое предложение, в котором могут быть добавлены лишние пробелы. Напишите программу, которая будет убирать из `our_text` лишние пробелы и сохранять результат в переменную `result`.\n",
    "Все слова должны быть разделены одним пробелом, а в начале и конце предложения пробелов быть не должно."
   ],
   "id": "b0158dd42eeebfed"
  },
  {
   "metadata": {
    "ExecuteTime": {
     "end_time": "2024-12-08T10:05:12.367240Z",
     "start_time": "2024-12-08T10:05:12.363874Z"
    }
   },
   "cell_type": "code",
   "source": [
    "our_text = \"We     are located  on Pushkin      Street.   \"\n",
    "result = \"We are located on Pushkin Street.\""
   ],
   "id": "3cd4f31f635bca0",
   "outputs": [],
   "execution_count": 6
  },
  {
   "metadata": {
    "ExecuteTime": {
     "end_time": "2024-12-08T22:29:49.603518Z",
     "start_time": "2024-12-08T22:29:49.600307Z"
    }
   },
   "cell_type": "code",
   "source": [
    "# Напиши решение тут\n"
   ],
   "id": "36705cf2b1431541",
   "outputs": [],
   "execution_count": 2
  },
  {
   "metadata": {},
   "cell_type": "markdown",
   "source": [
    "Мы хотим улучшить процесс шифрования и хранения информации о платежах, чтобы обеспечить конфиденциальность и защиту данных.\\\n",
    "Напишите программу, которая будет принимать номер кредитной карты `card` и возвращать номер карты, в котором будут видны только последние 4 цифры. Остальные цифры должны заменяться звездочками.\\\n",
    "Результат сохраните в `result`."
   ],
   "id": "df621069ed13e48"
  },
  {
   "metadata": {
    "ExecuteTime": {
     "end_time": "2024-12-08T10:06:51.486317Z",
     "start_time": "2024-12-08T10:06:51.483740Z"
    }
   },
   "cell_type": "code",
   "source": [
    "card = '5468350018455833'\n",
    "result = '************5833'"
   ],
   "id": "5cee3863129cccf0",
   "outputs": [],
   "execution_count": 11
  },
  {
   "metadata": {
    "ExecuteTime": {
     "end_time": "2024-12-16T13:11:20.636562Z",
     "start_time": "2024-12-16T13:11:20.615021Z"
    }
   },
   "cell_type": "code",
   "source": [
    "# Напиши решение тут\n",
    "1+2"
   ],
   "id": "a16eca170ac4f54b",
   "outputs": [
    {
     "data": {
      "text/plain": [
       "3"
      ]
     },
     "execution_count": 1,
     "metadata": {},
     "output_type": "execute_result"
    }
   ],
   "execution_count": 1
  },
  {
   "metadata": {},
   "cell_type": "markdown",
   "source": [
    "В переменной `my_list` сохранен не пустой список, в котором есть число 10.\n",
    "\n",
    "Найдите первый индекс числа 10 в `my_list`, сохраните индекс в переменную `ten_index`.\n",
    "\n",
    "В переменную `nine_count` сохраните, сколько раз в списке `my_list` встречается число 9."
   ],
   "id": "800123d387461d89"
  },
  {
   "metadata": {
    "ExecuteTime": {
     "end_time": "2024-12-09T21:57:31.750794Z",
     "start_time": "2024-12-09T21:57:31.738571Z"
    }
   },
   "cell_type": "code",
   "source": [
    "my_list = [1, 9, 0, 9, 10]\n",
    "ten_index = 4\n",
    "nine_count = 2\n",
    "\n",
    "\n",
    "my_list = [11, 2, 0, 6]\n",
    "ten_index = 0\n",
    "nine_count = 0"
   ],
   "id": "c648910d57bbaea4",
   "outputs": [],
   "execution_count": 6
  },
  {
   "metadata": {
    "ExecuteTime": {
     "end_time": "2024-12-08T23:07:55.934563Z",
     "start_time": "2024-12-08T23:07:55.932024Z"
    }
   },
   "cell_type": "code",
   "source": [
    "# Напиши решение тут\n"
   ],
   "id": "a7ffd1e1c7452fe2",
   "outputs": [],
   "execution_count": 5
  },
  {
   "metadata": {},
   "cell_type": "markdown",
   "source": [
    "1. В списке `names` содержатся различные имена. Добавьте в этот список два новых имени: `'Ann'` и `'Bob'`.\n",
    "2. В списке `dates` содержится список из десяти чисел, представляющих дни месяца. Удалите из этого списка второй, седьмой и последний день. Учтите, что индексы элементов смещаются после каждой операции удаления.\n",
    "3. В списке `items` содержатся названия различных элементов. Отсортируйте этот список в алфавитном порядке."
   ],
   "id": "1b82470f1fe0d82e"
  },
  {
   "metadata": {
    "ExecuteTime": {
     "end_time": "2024-12-08T23:10:46.481634Z",
     "start_time": "2024-12-08T23:10:46.477465Z"
    }
   },
   "cell_type": "code",
   "outputs": [],
   "execution_count": 6,
   "source": [
    "names = ['Peter', 'Maria', 'Alexander', 'Olga']\n",
    "dates = [1, 3, 5, 7, 9, 10, 12, 14, 16, 18]\n",
    "items = ['Lamp', 'Table', 'Book', 'Pen', 'Notebook']\n"
   ],
   "id": "9ebac36854610ddb"
  },
  {
   "metadata": {
    "ExecuteTime": {
     "end_time": "2024-12-08T23:10:52.145141Z",
     "start_time": "2024-12-08T23:10:52.142787Z"
    }
   },
   "cell_type": "code",
   "outputs": [],
   "execution_count": 7,
   "source": [
    "# Напиши решение тут\n"
   ],
   "id": "d0bc008d95ee498b"
  },
  {
   "metadata": {},
   "cell_type": "markdown",
   "source": [
    "В переменной `catalog` хранится множество всех товаров интернет-магазина, а в переменной `out_of_stock` — множество товаров, которые отсутствуют на складе. Сохраните в переменную `available_items` товары, которые доступны для заказа."
   ],
   "id": "f6d415e4a4c9cbe5"
  },
  {
   "metadata": {
    "ExecuteTime": {
     "end_time": "2024-12-08T23:14:11.276325Z",
     "start_time": "2024-12-08T23:14:11.272652Z"
    }
   },
   "cell_type": "code",
   "source": [
    "catalog = {\"Laptop\", \"Smartphone\", \"Headphones\", \"Camera\", \"Tablet\"}\n",
    "out_of_stock = {\"Camera\", \"Tablet\"}\n",
    "\n",
    "result =  {'Laptop', 'Smartphone', 'Headphones'}"
   ],
   "id": "e04c3bd33acd20f3",
   "outputs": [],
   "execution_count": 8
  },
  {
   "metadata": {
    "ExecuteTime": {
     "end_time": "2024-12-08T23:14:23.684952Z",
     "start_time": "2024-12-08T23:14:23.681998Z"
    }
   },
   "cell_type": "code",
   "source": [
    "# Напиши решение тут\n"
   ],
   "id": "33800330d03fefcc",
   "outputs": [],
   "execution_count": 9
  },
  {
   "metadata": {},
   "cell_type": "markdown",
   "source": [
    "В переменной `my_set` множество (set) из чисел. В переменной `to_delete` число, которое нужно удалить из `my_set`, если оно там есть. Если такого числа нет в `my_set` ничего делать не надо."
   ],
   "id": "18962158aa651348"
  },
  {
   "metadata": {
    "ExecuteTime": {
     "end_time": "2024-12-09T22:02:23.516522Z",
     "start_time": "2024-12-09T22:02:23.508582Z"
    }
   },
   "cell_type": "code",
   "source": [
    "my_set = {0, 10, 100}\n",
    "to_delete = 0\n",
    "#====>\n",
    "my_set = {10, 100} # удалили 0\n",
    "\n",
    "my_set = {0, 10, 100}\n",
    "to_delete = -2\n",
    "#====>\n",
    "my_set = {0, 10, 100} # ничего не сделали\n"
   ],
   "id": "22eaeb7537406de7",
   "outputs": [],
   "execution_count": 7
  },
  {
   "metadata": {},
   "cell_type": "code",
   "outputs": [],
   "execution_count": null,
   "source": [
    "# Напиши решение тут"
   ],
   "id": "f19b68423faa54c"
  },
  {
   "metadata": {},
   "cell_type": "markdown",
   "source": [
    "Вы работаете с данными, организованными в виде кортежей. Давайте обработаем эти данные:\n",
    "У вас есть кортеж `product_info`, содержащий информацию о товаре.\n",
    "Используя методы и операции работы с кортежами:\n",
    "- Проверьте, содержится ли в кортеже название товара, равное `'Laptop'`.\n",
    "- Разделите кортеж на две части: информацию о продавце (первые два элемента) и информацию о товаре (оставшиеся элементы)."
   ],
   "id": "33beb1a562823b0c"
  },
  {
   "metadata": {
    "ExecuteTime": {
     "end_time": "2024-12-09T11:45:48.104653Z",
     "start_time": "2024-12-09T11:45:48.100620Z"
    }
   },
   "cell_type": "code",
   "source": [
    "product_info = (\"John Doe\", \"Electronics Store\", \"Laptop\", \"15-inch\", \"Intel i7\", \"16GB RAM\")\n"
   ],
   "id": "e03e3edbb0428c6b",
   "outputs": [],
   "execution_count": 1
  },
  {
   "metadata": {
    "ExecuteTime": {
     "end_time": "2024-12-09T11:45:48.118863Z",
     "start_time": "2024-12-09T11:45:48.115954Z"
    }
   },
   "cell_type": "code",
   "source": [
    "# Напиши решение тут\n"
   ],
   "id": "251da2042c765254",
   "outputs": [],
   "execution_count": 2
  },
  {
   "metadata": {},
   "cell_type": "markdown",
   "source": [
    "В словаре `customer` хранятся имя клиента и список его расходов в интернет-магазине (например, за электронику, одежду и аксессуары). Создайте новый словарь `summary`, в котором будет имя клиента и самая высокая сумма из списка расходов."
   ],
   "id": "9c44b7136aa33652"
  },
  {
   "metadata": {
    "ExecuteTime": {
     "end_time": "2024-12-09T22:06:08.837466Z",
     "start_time": "2024-12-09T22:06:08.832194Z"
    }
   },
   "cell_type": "code",
   "source": [
    "customer = {\n",
    "    \"owner_name\": \"Maria\",\n",
    "    \"expenses\": [120, 200, 150, 300, 250]\n",
    "}"
   ],
   "id": "84e9c57e8b6fc471",
   "outputs": [],
   "execution_count": 8
  },
  {
   "metadata": {
    "ExecuteTime": {
     "end_time": "2024-12-09T11:51:26.990501Z",
     "start_time": "2024-12-09T11:51:26.988083Z"
    }
   },
   "cell_type": "code",
   "source": [
    "# Напиши решение тут\n"
   ],
   "id": "2fc79f115442b3fd",
   "outputs": [],
   "execution_count": 4
  }
 ],
 "metadata": {
  "kernelspec": {
   "display_name": "Python 3",
   "language": "python",
   "name": "python3"
  },
  "language_info": {
   "codemirror_mode": {
    "name": "ipython",
    "version": 2
   },
   "file_extension": ".py",
   "mimetype": "text/x-python",
   "name": "python",
   "nbconvert_exporter": "python",
   "pygments_lexer": "ipython2",
   "version": "2.7.6"
  }
 },
 "nbformat": 4,
 "nbformat_minor": 5
}
