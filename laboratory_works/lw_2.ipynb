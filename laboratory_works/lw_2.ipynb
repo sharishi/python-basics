{
 "cells": [
  {
   "cell_type": "markdown",
   "id": "9e9f885ad1cd3def",
   "metadata": {},
   "source": [
    "# Лабораторная №2"
   ]
  },
  {
   "cell_type": "markdown",
   "id": "425707c53189a3f4",
   "metadata": {},
   "source": [
    "## Условия, циклы, функции"
   ]
  },
  {
   "cell_type": "markdown",
   "id": "2a4a09414a32a3d5",
   "metadata": {},
   "source": [
    "\n",
    "Нам дали задачу проверить, является ли участок земли квадратным. В переменных `length` и `width` заданы значения длины и ширины участка. Необходимо проверить, является ли он квадратным. Сохраните в переменную `result` значение `True`, если участок квадратный, и `False` — если нет."
   ]
  },
  {
   "cell_type": "code",
   "execution_count": 15,
   "id": "initial_id",
   "metadata": {
    "ExecuteTime": {
     "end_time": "2024-12-09T11:59:00.117606Z",
     "start_time": "2024-12-09T11:59:00.114166Z"
    },
    "collapsed": true
   },
   "outputs": [],
   "source": [
    "length = 121\n",
    "width = 100\n",
    "result = False\n",
    "\n",
    "#Пример 2\n",
    "length = 10\n",
    "width = 10\n",
    "result = True"
   ]
  },
  {
   "cell_type": "code",
   "execution_count": 16,
   "id": "2a8406f5868bba93",
   "metadata": {
    "ExecuteTime": {
     "end_time": "2024-12-09T11:59:13.036578Z",
     "start_time": "2024-12-09T11:59:13.033939Z"
    }
   },
   "outputs": [
    {
     "name": "stdout",
     "output_type": "stream",
     "text": [
      "True\n"
     ]
    }
   ],
   "source": [
    "result = False\n",
    "if length == width:\n",
    "    result = True\n",
    "print(result)"
   ]
  },
  {
   "cell_type": "markdown",
   "id": "83b5067e4a0fa617",
   "metadata": {},
   "source": [
    "\n",
    "Мы решили выплатить премии сотрудникам в зависимости от их стажа работы. Премия рассчитывается следующим образом:\n",
    "\n",
    "- Если стаж работы сотрудника больше или равен 2 года, премия составляет 2 оклада.\n",
    "- Если стаж работы сотрудника больше или равен 5 лет, премия составляет 5 окладов.\n",
    "- Если стаж работы сотрудника больше или равен 15 лет, премия составляет 10 окладов.\n",
    "- Если стаж работы меньше 2 лет, премия равна 0.\n",
    "\n",
    "В переменной `salary` — зарплата сотрудника, в переменной `work_experience` — его стаж. Нужно вычислить размер премии и сохранить результат в переменную `result`."
   ]
  },
  {
   "cell_type": "code",
   "execution_count": 17,
   "id": "4947ebf0ab3ebbd8",
   "metadata": {
    "ExecuteTime": {
     "end_time": "2024-12-09T12:03:56.260649Z",
     "start_time": "2024-12-09T12:03:56.257743Z"
    }
   },
   "outputs": [],
   "source": [
    "# Пример 1\n",
    "salary = 150000\n",
    "work_experience = 3\n",
    "result = 300000\n",
    "\n",
    "# Пример 2\n",
    "salary = 100000\n",
    "work_experience = 1\n",
    "result = 0\n",
    "\n",
    "# Пример 3\n",
    "salary = 200000\n",
    "work_experience = 16\n",
    "result = 0 #2000000"
   ]
  },
  {
   "cell_type": "code",
   "execution_count": 18,
   "id": "1189f927e3a63e2c",
   "metadata": {
    "ExecuteTime": {
     "end_time": "2024-12-09T12:03:56.915203Z",
     "start_time": "2024-12-09T12:03:56.912679Z"
    }
   },
   "outputs": [
    {
     "name": "stdout",
     "output_type": "stream",
     "text": [
      "2000000\n"
     ]
    }
   ],
   "source": [
    "if work_experience >= 2:\n",
    "    result = 2 * salary\n",
    "    if work_experience >= 5:\n",
    "        result = 5 * salary\n",
    "        if work_experience >= 15:\n",
    "            result = 10 * salary\n",
    "else:\n",
    "    result = 0\n",
    "\n",
    "print(result)\n"
   ]
  },
  {
   "cell_type": "markdown",
   "id": "1a47c0bb8604d85e",
   "metadata": {},
   "source": [
    "Есть словарь `sales`, содержащий информацию о продуктах и их ценах в магазине. В список `affordable_products` нужно сохранить названия всех продуктов, которые стоят меньше или равны 500."
   ]
  },
  {
   "cell_type": "code",
   "execution_count": 19,
   "id": "d4fee48cb2dabcf5",
   "metadata": {
    "ExecuteTime": {
     "end_time": "2024-12-09T12:07:09.133555Z",
     "start_time": "2024-12-09T12:07:09.130844Z"
    }
   },
   "outputs": [],
   "source": [
    "sales = {\n",
    "    \"laptop\": 700,\n",
    "    \"smartphone\": 100,\n",
    "    \"headphones\": 50,\n",
    "    \"mouse\": 20,\n",
    "    \"keyboard\": 40\n",
    "}\n",
    "# Output: ['laptop', 700]"
   ]
  },
  {
   "cell_type": "code",
   "execution_count": 20,
   "id": "5bb1f8d2b45d553a",
   "metadata": {
    "ExecuteTime": {
     "end_time": "2024-12-09T12:06:09.715210Z",
     "start_time": "2024-12-09T12:06:09.712067Z"
    }
   },
   "outputs": [
    {
     "name": "stdout",
     "output_type": "stream",
     "text": [
      "['smartphone', 'headphones', 'mouse', 'keyboard']\n"
     ]
    }
   ],
   "source": [
    "affordable_products = []\n",
    "\n",
    "for s in sales:\n",
    "    if sales[s] <= 500:\n",
    "        affordable_products.append(s)\n",
    "\n",
    "print(affordable_products)"
   ]
  },
  {
   "cell_type": "markdown",
   "id": "68ac8bcb0e04fdc5",
   "metadata": {},
   "source": [
    "Напишите программу, принимающую в виде аргументов два списка `lst_1` и `lst_2` и определяющую, являются ли они противоположными друг другу. Результат проверки сохраните в result в формате True или False.\n",
    "\n",
    "Каждая пара списков будет состоять из одинаковых элементов (типа a и b). Список считается анти-списком, если все элементы в нем противоположны соответствующим элементам в первом списке.\n"
   ]
  },
  {
   "cell_type": "code",
   "execution_count": 21,
   "id": "c247de3ee5a9e60a",
   "metadata": {
    "ExecuteTime": {
     "end_time": "2024-12-09T12:10:09.592660Z",
     "start_time": "2024-12-09T12:10:09.589368Z"
    }
   },
   "outputs": [],
   "source": [
    "lst_1 = [\"1\", \"0\", \"0\", \"1\"]\n",
    "lst_2 = [\"0\", \"1\", \"1\", \"0\"]\n",
    "result = True\n",
    "\n",
    "lst_1 = [3, 4]\n",
    "lst_2 = [4, 3]\n",
    "result = True\n",
    "\n",
    "lst_1 = [1, 2]\n",
    "lst_2 = [2, 1]\n",
    "result = False\n"
   ]
  },
  {
   "cell_type": "code",
   "execution_count": 22,
   "id": "c1b907387b93a29a",
   "metadata": {},
   "outputs": [
    {
     "name": "stdout",
     "output_type": "stream",
     "text": [
      "True\n"
     ]
    }
   ],
   "source": [
    "lst_1 = [1, 2]\n",
    "lst_2 = [2, 1]\n",
    "\n",
    "def process_lists(list1, list2):\n",
    "    for i in range(len(list1)):\n",
    "        if list1[i] != list2[-(i + 1)]: \n",
    "            return False\n",
    "    return True\n",
    "\n",
    "result = process_lists(lst_1, lst_2)\n",
    "\n",
    "print(result)"
   ]
  },
  {
   "cell_type": "markdown",
   "id": "e6c61ed00e1f78e7",
   "metadata": {},
   "source": [
    "Задана переменная `m` — список из списков одинаковой длины. Проверьте, что суммы элементов на диагоналях равны.\n",
    "\n",
    "Результат проверки сохраните в `result` в формате True или False."
   ]
  },
  {
   "cell_type": "code",
   "execution_count": 23,
   "id": "52f6aa07b6b69e8",
   "metadata": {
    "ExecuteTime": {
     "end_time": "2024-12-09T22:13:25.877832Z",
     "start_time": "2024-12-09T22:13:25.865474Z"
    }
   },
   "outputs": [],
   "source": [
    "# Пример 1\n",
    "m = [[1, 23, 4],\n",
    "     [3, 2, 1],\n",
    "     [6, 3, 4]]\n",
    "result = False\n",
    "\n",
    "# Пример 2\n",
    "m = [[1, 23, 4],\n",
    "     [3, 2, 1],\n",
    "     [1, 3, 4]]\n",
    "result = True\n",
    "\n"
   ]
  },
  {
   "cell_type": "code",
   "execution_count": 24,
   "id": "e305f64695a0519c",
   "metadata": {
    "ExecuteTime": {
     "end_time": "2024-12-09T22:13:30.410637Z",
     "start_time": "2024-12-09T22:13:30.407043Z"
    }
   },
   "outputs": [
    {
     "name": "stdout",
     "output_type": "stream",
     "text": [
      "True\n"
     ]
    }
   ],
   "source": [
    "\n",
    "t1 = t2 = 0\n",
    "\n",
    "for i in range(len(m)):\n",
    "    t1 += m[i][i]\n",
    "for i in range(len(m)):\n",
    "    t2 += m[i][len(m) - i - 1]\n",
    "\n",
    "result = t1 == t2\n",
    "print(result)"
   ]
  },
  {
   "cell_type": "markdown",
   "id": "32734e2d177c9fa",
   "metadata": {},
   "source": [
    "Дан список кортежей `input_list`. Отсортируйте `input_list` по 2 элементу кортежа в порядке убывания. Отфильтруйте список так, чтобы остались только те элементы, второе значение в кортеже у которых кратно 5.\n",
    "\n",
    "Результат сохраните в `result`.\n",
    "\n",
    "Для решения задачи используйте lambda-функцию."
   ]
  },
  {
   "cell_type": "code",
   "execution_count": 25,
   "id": "54ca7285b6d4f539",
   "metadata": {
    "ExecuteTime": {
     "end_time": "2024-12-09T22:14:35.143038Z",
     "start_time": "2024-12-09T22:14:35.135629Z"
    }
   },
   "outputs": [],
   "source": [
    "input_list = [('Anna', 13), ('Ivan', 20), ('Irina', 23), ('Olga', 25),\n",
    "              ('Ivan', 30), ('Oleg', 24), ('Olga', 26)]\n",
    "result = [('Ivan', 30), ('Olga', 25), ('Ivan', 20)]"
   ]
  },
  {
   "cell_type": "code",
   "execution_count": 26,
   "id": "9c9b829170cb8f2a",
   "metadata": {},
   "outputs": [
    {
     "name": "stdout",
     "output_type": "stream",
     "text": [
      "[('Ivan', 30), ('Olga', 25), ('Ivan', 20)]\n"
     ]
    }
   ],
   "source": [
    "list1 = []\n",
    "for l in input_list:\n",
    "    if l[1] % 5 == 0:\n",
    "        list1.append(l)\n",
    "list2 = sorted(list1, key=lambda x: x[1], reverse=True)\n",
    "print(list2)\n"
   ]
  },
  {
   "cell_type": "markdown",
   "id": "d7f53fd342d1cd0f",
   "metadata": {},
   "source": [
    "Гипотеза Коллатца: какое бы начальное натуральное число n мы ни взяли, рано или поздно мы получим единицу, если выполняем следующие преобразования:\n",
    "\n",
    "- Если n чётное, то делим его на 2;\n",
    "- Если n нечётное, то умножаем на 3 и прибавляем 1 (получаем 3n + 1).\n",
    "Напишите функцию `def collatz_conjecture()`, которая будет принимать натуральное число n и возвращать последовательность чисел, полученных указанными выше преобразованиями."
   ]
  },
  {
   "cell_type": "code",
   "execution_count": 27,
   "id": "a11c1692c9761fa4",
   "metadata": {
    "ExecuteTime": {
     "end_time": "2024-12-09T22:15:55.028720Z",
     "start_time": "2024-12-09T22:15:55.023155Z"
    }
   },
   "outputs": [],
   "source": [
    "def collatz_conjecture(n):\n",
    "    ...\n",
    "\n",
    "collatz_conjecture(8) # -> [8, 4, 2, 1]\n",
    "collatz_conjecture(3) # -> [3, 10, 5, 16, 8, 4, 2, 1]\n"
   ]
  },
  {
   "cell_type": "code",
   "execution_count": 28,
   "id": "5b5cc07ed41f2515",
   "metadata": {
    "ExecuteTime": {
     "end_time": "2024-12-09T12:17:45.752499Z",
     "start_time": "2024-12-09T12:17:45.750033Z"
    }
   },
   "outputs": [
    {
     "data": {
      "text/plain": [
       "[3, 10, 5, 16, 8, 4, 2, 1]"
      ]
     },
     "execution_count": 28,
     "metadata": {},
     "output_type": "execute_result"
    }
   ],
   "source": [
    "def collatz_conjecture(n):\n",
    "    list = []\n",
    "    list.append(n)\n",
    "    while n != 1:\n",
    "        if n % 2 == 0:\n",
    "            n = n // 2\n",
    "        else:\n",
    "            n = 3 * n + 1\n",
    "        list.append(n)\n",
    "    return list\n",
    "\n",
    "collatz_conjecture(3)"
   ]
  }
 ],
 "metadata": {
  "kernelspec": {
   "display_name": "Python 3",
   "language": "python",
   "name": "python3"
  },
  "language_info": {
   "codemirror_mode": {
    "name": "ipython",
    "version": 3
   },
   "file_extension": ".py",
   "mimetype": "text/x-python",
   "name": "python",
   "nbconvert_exporter": "python",
   "pygments_lexer": "ipython3",
   "version": "3.12.6"
  }
 },
 "nbformat": 4,
 "nbformat_minor": 5
}
